{
 "cells": [
  {
   "cell_type": "markdown",
   "metadata": {},
   "source": [
    "### Imports"
   ]
  },
  {
   "cell_type": "code",
   "execution_count": null,
   "metadata": {},
   "outputs": [],
   "source": [
    "import cv2\n",
    "import torch\n",
    "import numpy as np\n",
    "import pandas as pd\n",
    "from PIL import Image, ImageEnhance, ImageFilter\n",
    "from PIL.ImageOps import invert"
   ]
  },
  {
   "cell_type": "code",
   "execution_count": null,
   "metadata": {},
   "outputs": [],
   "source": [
    "show_intermediate = False   # set to True to show intermediate results\n",
    "output = []                 # create list to store all final outputs"
   ]
  },
  {
   "cell_type": "markdown",
   "metadata": {},
   "source": [
    "### Image preprocessing"
   ]
  },
  {
   "cell_type": "code",
   "execution_count": null,
   "metadata": {},
   "outputs": [],
   "source": [
    "test_image = '../assets/example_image.jpg'\n",
    "\n",
    "# convert to grayscale\n",
    "img = Image.open(test_image).convert('L')\n",
    "img = invert(img)\n",
    "img = ImageEnhance.Contrast(img).enhance(2)\n",
    "img = img.point(lambda p: p > 220 and 255)\n",
    "img = img.filter(ImageFilter.SMOOTH)\n",
    "\n",
    "# show image\n",
    "if show_intermediate:\n",
    "    img.show()"
   ]
  },
  {
   "cell_type": "markdown",
   "metadata": {},
   "source": [
    "### Components Inference"
   ]
  },
  {
   "cell_type": "code",
   "execution_count": null,
   "metadata": {},
   "outputs": [],
   "source": [
    "# Get the model\n",
    "model_path = '../models/components.pt' \n",
    "c_model = torch.hub.load('ultralytics/yolov5', 'custom', path=model_path)\n",
    "c_model.eval()"
   ]
  },
  {
   "cell_type": "code",
   "execution_count": null,
   "metadata": {},
   "outputs": [],
   "source": [
    "# Inference\n",
    "c_results = c_model(img)\n",
    "\n",
    "# Create a new dataframe with the results\n",
    "for result in c_results.xyxy:\n",
    "    output.append([result[5], result[0], result[1], result[2], result[3], result[4]])\n",
    "\n",
    "# Print and show results\n",
    "if show_intermediate:\n",
    "    print(c_results.pandas().xyxy)\n",
    "    c_results.show()"
   ]
  },
  {
   "cell_type": "markdown",
   "metadata": {},
   "source": [
    "### Junction inference"
   ]
  },
  {
   "cell_type": "code",
   "execution_count": null,
   "metadata": {},
   "outputs": [],
   "source": [
    "model_path = '../models/junctions.pt'\n",
    "j_model = torch.hub.load('ultralytics/yolov5', 'custom', path=model_path)\n",
    "j_model.eval()"
   ]
  },
  {
   "cell_type": "code",
   "execution_count": null,
   "metadata": {},
   "outputs": [],
   "source": [
    "# Perform inference on the image without components\n",
    "j_results = j_model(img)\n",
    "\n",
    "# Print and show results\n",
    "if show_intermediate:\n",
    "    print(j_results.pandas().xyxy)\n",
    "    j_results.show()"
   ]
  },
  {
   "cell_type": "markdown",
   "metadata": {},
   "source": [
    "### Post processing"
   ]
  },
  {
   "cell_type": "code",
   "execution_count": null,
   "metadata": {},
   "outputs": [],
   "source": [
    "# Remove overlapping junctions (move this function to utils later)\n",
    "def remove_overlapping_junctions(j_results, c_results):\n",
    "    \"\"\" Remove junctions that are overlapping with components\n",
    "\n",
    "    Args:\n",
    "        j_results (yolov5.results): Results of the junction detection model\n",
    "        c_results (yolov5.results): Results of the component detection model\n",
    "\n",
    "    Returns:\n",
    "        list: List of coordinates of junctions that are not overlapping with components\n",
    "    \"\"\"\n",
    "    # Get the bounding boxes of the junctions and the components\n",
    "    j_boxes = j_results.xyxy[0]\n",
    "    c_boxes = c_results.xyxy[0]\n",
    "\n",
    "    # Get the coordinates of the junctions and the components\n",
    "    j_coords = [(int(box[0]), int(box[1]), int(box[2]), int(box[3])) for box in j_boxes]\n",
    "    c_coords = [(int(box[0]), int(box[1]), int(box[2]), int(box[3])) for box in c_boxes]\n",
    "\n",
    "    # Remove junctions that are overlapping with components\n",
    "    for j_coord in j_coords:\n",
    "        for c_coord in c_coords:\n",
    "            if j_coord[0] >= c_coord[0] and j_coord[1] >= c_coord[1] and j_coord[2] <= c_coord[2] and j_coord[3] <= c_coord[3]:\n",
    "                j_coords.remove(j_coord)\n",
    "                break\n",
    "\n",
    "        # TODO: keep track of which junctions are kept and add those to output list\n",
    "\n",
    "    return j_coords\n",
    "\n",
    "j_coords = remove_overlapping_junctions(j_results, c_results)\n",
    "\n",
    "# TODO: perform non-maximum suppression on the junctions"
   ]
  },
  {
   "cell_type": "markdown",
   "metadata": {},
   "source": [
    "### Convert to generated image\n",
    "Take the final output list and generate the digital circuit based on that"
   ]
  },
  {
   "cell_type": "code",
   "execution_count": null,
   "metadata": {},
   "outputs": [],
   "source": [
    "# TODO"
   ]
  }
 ],
 "metadata": {
  "kernelspec": {
   "display_name": "venv",
   "language": "python",
   "name": "python3"
  },
  "language_info": {
   "codemirror_mode": {
    "name": "ipython",
    "version": 3
   },
   "file_extension": ".py",
   "mimetype": "text/x-python",
   "name": "python",
   "nbconvert_exporter": "python",
   "pygments_lexer": "ipython3",
   "version": "3.10.12"
  }
 },
 "nbformat": 4,
 "nbformat_minor": 2
}
