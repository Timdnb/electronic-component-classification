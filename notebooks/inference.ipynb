{
 "cells": [
  {
   "cell_type": "markdown",
   "metadata": {},
   "source": [
    "### Imports"
   ]
  },
  {
   "cell_type": "code",
   "execution_count": null,
   "metadata": {},
   "outputs": [],
   "source": [
    "import cv2\n",
    "import torch\n",
    "import numpy as np\n",
    "from PIL import Image, ImageEnhance, ImageFilter\n",
    "from PIL.ImageOps import invert"
   ]
  },
  {
   "cell_type": "markdown",
   "metadata": {},
   "source": [
    "### Image preprocessing"
   ]
  },
  {
   "cell_type": "code",
   "execution_count": null,
   "metadata": {},
   "outputs": [],
   "source": [
    "test_image = 'test_image.jpg'\n",
    "\n",
    "# convert to grayscale\n",
    "img = Image.open(test_image).convert('L')\n",
    "img = invert(img)\n",
    "img = ImageEnhance.Contrast(img).enhance(2)\n",
    "img = img.point(lambda p: p > 220 and 255)\n",
    "img = img.filter(ImageFilter.SMOOTH)\n",
    "\n",
    "# show image\n",
    "img.show()"
   ]
  },
  {
   "cell_type": "markdown",
   "metadata": {},
   "source": [
    "### Inference"
   ]
  },
  {
   "cell_type": "code",
   "execution_count": null,
   "metadata": {},
   "outputs": [],
   "source": [
    "# Get the model\n",
    "model_path = 'best.pt'\n",
    "model = torch.hub.load('ultralytics/yolov5', 'custom', path=model_path)\n",
    "model.eval()"
   ]
  },
  {
   "cell_type": "code",
   "execution_count": null,
   "metadata": {},
   "outputs": [],
   "source": [
    "# Inference\n",
    "results = model(img)\n",
    "\n",
    "# Print and show results\n",
    "print(results.pandas().xyxy)\n",
    "results.show()"
   ]
  },
  {
   "cell_type": "markdown",
   "metadata": {},
   "source": [
    "### Remove components"
   ]
  },
  {
   "cell_type": "code",
   "execution_count": null,
   "metadata": {},
   "outputs": [],
   "source": [
    "# Remove pixels in bounding boxing from image\n",
    "def remove_pixels(image, results, padding=10):\n",
    "    # Get bounding boxes\n",
    "    boxes = results.xyxy[0]\n",
    "\n",
    "    # Convert image to numpy array\n",
    "    image = cv2.cvtColor(np.array(image), cv2.COLOR_RGB2BGR)\n",
    "\n",
    "    # Add padding to image on all sides\n",
    "    image = cv2.copyMakeBorder(image, padding, padding, padding, padding, cv2.BORDER_CONSTANT, value=[0, 0, 0])\n",
    "\n",
    "    # Remove pixels in bounding boxes\n",
    "    for box in boxes:\n",
    "        # Convert coordinates to integers\n",
    "        x1, y1, x2, y2 = map(int, box[0:4])  \n",
    "        # Add padding to the bounding boxes\n",
    "        image[y1-padding:y2+padding, x1-padding:x2+padding] = 0\n",
    "\n",
    "    # Remove padding\n",
    "    image = image[padding:-padding, padding:-padding]\n",
    "\n",
    "    # Convert image back to PIL image\n",
    "    image = Image.fromarray(cv2.cvtColor(image, cv2.COLOR_BGR2RGB))\n",
    "\n",
    "    return image\n",
    "\n",
    "# Remove pixels in bounding boxes\n",
    "image = remove_pixels(img, results)\n",
    "\n",
    "# # Show image\n",
    "# image.show()"
   ]
  },
  {
   "cell_type": "markdown",
   "metadata": {},
   "source": [
    "### Line detection"
   ]
  },
  {
   "cell_type": "code",
   "execution_count": null,
   "metadata": {},
   "outputs": [],
   "source": [
    "# convert image to numpy array\n",
    "image = cv2.cvtColor(np.array(image), cv2.COLOR_RGB2BGR)\n",
    "\n",
    "# convert image to grayscale\n",
    "gray = cv2.cvtColor(image, cv2.COLOR_BGR2GRAY)\n",
    "\n",
    "# blur image\n",
    "gray = cv2.GaussianBlur(gray, (5, 5), 0)\n",
    "\n",
    "# find edges in image\n",
    "edges = cv2.Canny(gray, 50, 150)\n",
    "\n",
    "# find lines in image\n",
    "lines = cv2.HoughLinesP(edges, 1, np.pi / 180, threshold=15, minLineLength=30, maxLineGap=10)\n",
    "\n",
    "# draw lines on image\n",
    "for points in lines:\n",
    "    x1, y1, x2, y2 = points[0]\n",
    "    cv2.line(image, (x1, y1), (x2, y2), (0, 255, 0), 2)\n",
    "\n",
    "# convert image back to PIL image\n",
    "image = Image.fromarray(cv2.cvtColor(image, cv2.COLOR_BGR2RGB))\n",
    "\n",
    "# show image\n",
    "image.show()"
   ]
  },
  {
   "cell_type": "code",
   "execution_count": null,
   "metadata": {},
   "outputs": [],
   "source": [
    "# Loop through all the lines and find all intersections\n",
    "intersections = []\n",
    "\n",
    "for i in range(len(lines)):\n",
    "    for j in range(i+1, len(lines)):\n",
    "        x1, y1, x2, y2 = lines[i][0]\n",
    "        x3, y3, x4, y4 = lines[j][0]\n",
    "\n",
    "        # Find intersection\n",
    "        d = (x1-x2)*(y3-y4) - (y1-y2)*(x3-x4)\n",
    "        if d:\n",
    "            x = ((x1*y2-y1*x2)*(x3-x4)-(x1-x2)*(x3*y4-y3*x4))/d\n",
    "            y = ((x1*y2-y1*x2)*(y3-y4)-(y1-y2)*(x3*y4-y3*x4))/d\n",
    "            intersections.append((int(x), int(y)))\n",
    "    \n",
    "# Draw intersections on image\n",
    "for point in intersections:\n",
    "    cv2.circle(image, point, 5, (0, 0, 255), -1)\n",
    "\n",
    "# convert image back to PIL image\n",
    "image = Image.fromarray(cv2.cvtColor(image, cv2.COLOR_BGR2RGB))\n",
    "\n",
    "# show image\n",
    "image.show()"
   ]
  },
  {
   "cell_type": "code",
   "execution_count": null,
   "metadata": {},
   "outputs": [],
   "source": []
  }
 ],
 "metadata": {
  "kernelspec": {
   "display_name": "venv",
   "language": "python",
   "name": "python3"
  },
  "language_info": {
   "codemirror_mode": {
    "name": "ipython",
    "version": 3
   },
   "file_extension": ".py",
   "mimetype": "text/x-python",
   "name": "python",
   "nbconvert_exporter": "python",
   "pygments_lexer": "ipython3",
   "version": "3.10.12"
  }
 },
 "nbformat": 4,
 "nbformat_minor": 2
}
