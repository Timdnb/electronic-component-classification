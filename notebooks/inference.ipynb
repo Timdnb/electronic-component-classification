{
 "cells": [
  {
   "cell_type": "markdown",
   "metadata": {},
   "source": [
    "### Imports"
   ]
  },
  {
   "cell_type": "code",
   "execution_count": null,
   "metadata": {},
   "outputs": [],
   "source": [
    "import cv2\n",
    "import torch\n",
    "import numpy as np\n",
    "import pandas as pd\n",
    "from PIL import Image, ImageEnhance, ImageFilter\n",
    "from PIL.ImageOps import invert"
   ]
  },
  {
   "cell_type": "code",
   "execution_count": null,
   "metadata": {},
   "outputs": [],
   "source": [
    "show_intermediate = False   # set to True to show intermediate results\n",
    "output = []                 # create list to store all final outputs"
   ]
  },
  {
   "cell_type": "markdown",
   "metadata": {},
   "source": [
    "### Image preprocessing"
   ]
  },
  {
   "cell_type": "code",
   "execution_count": null,
   "metadata": {},
   "outputs": [],
   "source": [
    "test_image = '../assets/example_image.jpg'\n",
    "\n",
    "# convert to grayscale\n",
    "img = Image.open(test_image).convert('L')\n",
    "img = invert(img)\n",
    "img = ImageEnhance.Contrast(img).enhance(2)\n",
    "img = img.point(lambda p: p > 220 and 255)\n",
    "img = img.filter(ImageFilter.SMOOTH)\n",
    "\n",
    "# show image\n",
    "if show_intermediate:\n",
    "    img.show()"
   ]
  },
  {
   "cell_type": "markdown",
   "metadata": {},
   "source": [
    "### Components Inference"
   ]
  },
  {
   "cell_type": "code",
   "execution_count": null,
   "metadata": {},
   "outputs": [],
   "source": [
    "# Get the model\n",
    "model_path = '../models/components.pt' \n",
    "c_model = torch.hub.load('ultralytics/yolov5', 'custom', path=model_path)\n",
    "c_model.eval()"
   ]
  },
  {
   "cell_type": "code",
   "execution_count": null,
   "metadata": {},
   "outputs": [],
   "source": [
    "# Inference\n",
    "c_results = c_model(img)\n",
    "\n",
    "# Create a new dataframe with the results\n",
    "for result in c_results.xyxy:\n",
    "    output.append([result[5], result[0], result[1], result[2], result[3], result[4]])\n",
    "\n",
    "# Print and show results\n",
    "if show_intermediate:\n",
    "    print(c_results.pandas().xyxy)\n",
    "    c_results.show()"
   ]
  },
  {
   "cell_type": "markdown",
   "metadata": {},
   "source": [
    "### Junction inference"
   ]
  },
  {
   "cell_type": "code",
   "execution_count": null,
   "metadata": {},
   "outputs": [],
   "source": [
    "model_path = '../models/junctions.pt'\n",
    "j_model = torch.hub.load('ultralytics/yolov5', 'custom', path=model_path)\n",
    "j_model.eval()"
   ]
  },
  {
   "cell_type": "code",
   "execution_count": null,
   "metadata": {},
   "outputs": [],
   "source": [
    "# Perform inference on the image without components\n",
    "j_results = j_model(img)\n",
    "\n",
    "# Print and show results\n",
    "if show_intermediate:\n",
    "    print(j_results.pandas().xyxy)\n",
    "    j_results.show()"
   ]
  },
  {
   "cell_type": "markdown",
   "metadata": {},
   "source": [
    "### Post processing"
   ]
  },
  {
   "cell_type": "code",
   "execution_count": null,
   "metadata": {},
   "outputs": [],
   "source": [
    "# Remove overlapping junctions (TODO: move this function to utils later)\n",
    "def remove_overlapping_junctions(j_results, c_results):\n",
    "    \"\"\" Remove junctions that are overlapping with components\n",
    "\n",
    "    Args:\n",
    "        j_results (yolov5.results): Results of the junction detection model\n",
    "        c_results (yolov5.results): Results of the component detection model\n",
    "\n",
    "    Returns:\n",
    "        list: List of coordinates of components with confidence scores and class labels\n",
    "        list: List of coordinates of junctions that are not overlapping with components with confidence scores and class labels\n",
    "    \"\"\"\n",
    "    # Get the bounding boxes of the junctions and the components\n",
    "    j_boxes = j_results.xyxy[0]\n",
    "    c_boxes = c_results.xyxy[0]\n",
    "\n",
    "    # Get the coordinates of the junctions and the components\n",
    "    j_coords = [(int(box[0]), int(box[1]), int(box[2]), int(box[3]), np.round(float(box[4]), 4), int(box[5])) for box in j_boxes]\n",
    "    c_coords = [(int(box[0]), int(box[1]), int(box[2]), int(box[3]), np.round(float(box[4]), 4), int(box[5])) for box in c_boxes]\n",
    "\n",
    "    # Remove junctions that are overlapping with components\n",
    "    for j_coord in j_coords:\n",
    "        for c_coord in c_coords:\n",
    "            if j_coord[0] >= c_coord[0] and j_coord[1] >= c_coord[1] and j_coord[2] <= c_coord[2] and j_coord[3] <= c_coord[3]:\n",
    "                j_coords.remove(j_coord)\n",
    "                break\n",
    "\n",
    "    return c_coords, j_coords\n",
    "\n",
    "\n",
    "# Perform non-maximum suppression (TODO: move this function to utils later)\n",
    "def non_max_suppression_fast(coords, iou_threshold=0.5):\n",
    "    \"\"\" Apply non-maximum suppression to the coordinates of the junctions\n",
    "    Args:\n",
    "        coords (list): List of coordinates of junctions with confidence scores and class labels\n",
    "        iou_threshold (float): Intersection over Union (IoU) threshold\n",
    "    Returns:\n",
    "        list: List of coordinates of junctions after non-maximum suppression with confidence scores and class labels\n",
    "    \"\"\"\n",
    "    if len(coords) == 0:\n",
    "        return []\n",
    "    \n",
    "    # Transform the coordinates into a numpy array\n",
    "    boxes = np.array([[x1, y1, x2, y2] for x1, y1, x2, y2, score, label in coords])\n",
    "    scores = np.array([score for x1, y1, x2, y2, score, label in coords])\n",
    "\n",
    "    x1 = boxes[:, 0]\n",
    "    y1 = boxes[:, 1]\n",
    "    x2 = boxes[:, 2]\n",
    "    y2 = boxes[:, 3]\n",
    "\n",
    "    # Compute the area of the bounding boxes\n",
    "    area = (x2 - x1 + 1) * (y2 - y1 + 1)\n",
    "\n",
    "    # Sort by confidence\n",
    "    indices = np.argsort(scores)[::-1]\n",
    "\n",
    "    keep = []\n",
    "\n",
    "    # Iterate over the bounding boxes\n",
    "    while len(indices) > 0:\n",
    "        current = indices[0]\n",
    "        keep.append(current)\n",
    "\n",
    "        xx1 = np.maximum(x1[current], x1[indices[1:]])\n",
    "        yy1 = np.maximum(y1[current], y1[indices[1:]])\n",
    "        xx2 = np.minimum(x2[current], x2[indices[1:]])\n",
    "        yy2 = np.minimum(y2[current], y2[indices[1:]])\n",
    "\n",
    "        w = np.maximum(0, xx2 - xx1 + 1)\n",
    "        h = np.maximum(0, yy2 - yy1 + 1)\n",
    "\n",
    "        overlap = (w * h) / area[indices[1:]]\n",
    "\n",
    "        suppressed_indices = np.where(overlap <= iou_threshold)[0]\n",
    "\n",
    "        indices = indices[suppressed_indices + 1]\n",
    "\n",
    "    return [coords[i] for i in keep]\n",
    "\n",
    "\n",
    "# Remove overlapping junctions\n",
    "c_coords, j_coords = remove_overlapping_junctions(j_results, c_results)\n",
    "\n",
    "# Remember the old junctions\n",
    "columns = ['xmin', 'ymin', 'xmax', 'ymax', 'confidence', 'class']\n",
    "old_j_df = pd.DataFrame(j_coords, columns=columns)\n",
    "\n",
    "# Perform non-maximum suppression on junctions\n",
    "j_coords = non_max_suppression_fast(j_coords)\n",
    "\n",
    "# Create dataframes from the components and remaining junctions\n",
    "c_df = pd.DataFrame(c_coords, columns=columns)\n",
    "j_df = pd.DataFrame(j_coords, columns=columns)\n",
    "\n",
    "if show_intermediate:\n",
    "    print(\"Components:\")\n",
    "    print(c_df)\n",
    "\n",
    "    print(\"Old junctions:\")\n",
    "    print(old_j_df)\n",
    "\n",
    "    print(\"NMS Junctions:\")\n",
    "    print(j_df)\n"
   ]
  },
  {
   "cell_type": "markdown",
   "metadata": {},
   "source": [
    "### Convert to generated image\n",
    "Take the final output list and generate the digital circuit based on that"
   ]
  },
  {
   "cell_type": "code",
   "execution_count": null,
   "metadata": {},
   "outputs": [],
   "source": [
    "# TODO"
   ]
  }
 ],
 "metadata": {
  "kernelspec": {
   "display_name": "venv",
   "language": "python",
   "name": "python3"
  },
  "language_info": {
   "codemirror_mode": {
    "name": "ipython",
    "version": 3
   },
   "file_extension": ".py",
   "mimetype": "text/x-python",
   "name": "python",
   "nbconvert_exporter": "python",
   "pygments_lexer": "ipython3",
   "version": "3.10.12"
  }
 },
 "nbformat": 4,
 "nbformat_minor": 2
}
