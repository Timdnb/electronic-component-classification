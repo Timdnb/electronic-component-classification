{
 "cells": [
  {
   "cell_type": "markdown",
   "metadata": {},
   "source": [
    "# This script is used to download the dataset from the google drive, which stores the kaggle dataset of electrical components (https://www.kaggle.com/datasets/moodrammer/handdrawn-circuit-schematic-components?resource=download)\n"
   ]
  },
  {
   "cell_type": "code",
   "execution_count": 11,
   "metadata": {},
   "outputs": [],
   "source": [
    "\n",
    "import os\n",
    "import gdown\n",
    "import zipfile\n",
    "import stat\n"
   ]
  },
  {
   "cell_type": "code",
   "execution_count": 14,
   "metadata": {},
   "outputs": [],
   "source": [
    "\n",
    "# List of component folders\n",
    "components_dataset_lst = [\"ac_src\", \"Ammeter\", \"dep_curr_src\", \"cap\", \"curr_src\",\"dc_volt_src_1\", \"dc_volt_src_2\", \"dep_curr_src\", \"dep_volt\",  \"diode\",\"gnd_1\", \"gnd_2\", \"inductor\",\"resistor\" ]\n",
    "components_dataset = \"dataset/components\"\n",
    "\n",
    "# Function to check if all component folders exist\n",
    "def all_folders_exist(folders):\n",
    "    return all(os.path.exists(\"dataset/components/\"+folder) for folder in folders)\n",
    "\n",
    "# URL to the ZIP file containing the dataset\n",
    "zip_url = 'https://drive.google.com/drive/u/0/folders/1wuf9iQl9cDVwu0bxMChMhsnof6g7yE1o'\n",
    "zip_path = \"archive\"\n",
    "\n",
    "\n"
   ]
  },
  {
   "cell_type": "code",
   "execution_count": 15,
   "metadata": {},
   "outputs": [
    {
     "name": "stderr",
     "output_type": "stream",
     "text": [
      "Retrieving folder contents\n"
     ]
    },
    {
     "name": "stdout",
     "output_type": "stream",
     "text": [
      "Processing file 1XAgQ1WcNeGSiWA0j9PhLc3r3thsKTaCj dataset_elec.zip\n"
     ]
    },
    {
     "name": "stderr",
     "output_type": "stream",
     "text": [
      "Retrieving folder contents completed\n",
      "Building directory structure\n",
      "Building directory structure completed\n",
      "Downloading...\n",
      "From: https://drive.google.com/uc?id=1XAgQ1WcNeGSiWA0j9PhLc3r3thsKTaCj\n",
      "To: c:\\Users\\bello\\OneDrive\\Documents\\Robotics\\CVDL\\electronic-component-classification\\notebooks\\archive\\dataset_elec.zip\n",
      "100%|██████████| 4.53M/4.53M [00:00<00:00, 6.73MB/s]\n",
      "Download completed\n"
     ]
    },
    {
     "name": "stdout",
     "output_type": "stream",
     "text": [
      "Extracted archive successfully. to ../dataset/componentsS\n"
     ]
    }
   ],
   "source": [
    "if not all_folders_exist(components_dataset_lst):\n",
    "    # Download the ZIP file\n",
    "    gdown.download_folder(url=zip_url, output=zip_path, quiet=False)\n",
    "\n",
    "    # Unzip the downloaded file\n",
    "    # os.chmod(components_dataset, stat.S_IRWXU)\n",
    "    os.chmod(zip_path, stat.S_IRWXU)\n",
    "    try:\n",
    "        \n",
    "        with zipfile.ZipFile(zip_path+\"/dataset_elec.zip\", 'r') as zip_ref:\n",
    "            zip_ref.extractall(\"../dataset/components\")\n",
    "        print(f\"Extracted {zip_path} successfully. to {\"../dataset/componentsS\"}\")\n",
    "    except zipfile.BadZipFile:\n",
    "        print(f\"Error: The file {zip_path} is not a valid ZIP file.\")\n",
    "    except PermissionError:\n",
    "        print(f\"Error: Permission denied when trying to extract {zip_path}.\")\n",
    "\n",
    "\n",
    "   \n",
    "else:\n",
    "    print(f\"All components dataset already downloaded\")\n"
   ]
  },
  {
   "cell_type": "code",
   "execution_count": null,
   "metadata": {},
   "outputs": [],
   "source": []
  }
 ],
 "metadata": {
  "kernelspec": {
   "display_name": "elec_CV",
   "language": "python",
   "name": "python3"
  },
  "language_info": {
   "codemirror_mode": {
    "name": "ipython",
    "version": 3
   },
   "file_extension": ".py",
   "mimetype": "text/x-python",
   "name": "python",
   "nbconvert_exporter": "python",
   "pygments_lexer": "ipython3",
   "version": "3.12.3"
  }
 },
 "nbformat": 4,
 "nbformat_minor": 2
}
