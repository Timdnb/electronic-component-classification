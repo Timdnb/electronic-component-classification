{
 "cells": [
  {
   "cell_type": "markdown",
   "metadata": {},
   "source": [
    "### Imports"
   ]
  },
  {
   "cell_type": "code",
   "execution_count": null,
   "metadata": {},
   "outputs": [],
   "source": [
    "import cv2\n",
    "from PIL import Image, ImageEnhance, ImageFilter\n",
    "from PIL.ImageOps import invert\n",
    "import torch"
   ]
  },
  {
   "cell_type": "markdown",
   "metadata": {},
   "source": [
    "### Image preprocessing"
   ]
  },
  {
   "cell_type": "code",
   "execution_count": null,
   "metadata": {},
   "outputs": [],
   "source": [
    "test_image = 'test_image.jpg'\n",
    "\n",
    "# convert to grayscale\n",
    "img = Image.open(test_image).convert('L')\n",
    "\n",
    "# invert image\n",
    "img = invert(img)\n",
    "\n",
    "# increase contrast of image\n",
    "img = ImageEnhance.Contrast(img).enhance(2)\n",
    "\n",
    "# make all pixels below 200 black\n",
    "img = img.point(lambda p: p > 220 and 255)\n",
    "\n",
    "# smoothen image\n",
    "img = img.filter(ImageFilter.SMOOTH)\n",
    "\n",
    "# show image\n",
    "img.show()\n"
   ]
  },
  {
   "cell_type": "markdown",
   "metadata": {},
   "source": [
    "### Inference"
   ]
  },
  {
   "cell_type": "code",
   "execution_count": null,
   "metadata": {},
   "outputs": [],
   "source": [
    "# model path\n",
    "model_path = 'best.pt'\n",
    "\n",
    "# load model\n",
    "model = torch.hub.load('ultralytics/yolov5', 'custom', path=model_path)\n",
    "model.eval()\n",
    "\n",
    "# get results\n",
    "results = model(img)\n",
    "\n",
    "# print results\n",
    "print(results.pandas().xyxy)\n",
    "\n",
    "# show results\n",
    "results.show()\n",
    "\n",
    "# save image\n",
    "results.save('test_image_result.jpg')"
   ]
  },
  {
   "cell_type": "markdown",
   "metadata": {},
   "source": [
    "### Line detection"
   ]
  },
  {
   "cell_type": "code",
   "execution_count": null,
   "metadata": {},
   "outputs": [],
   "source": [
    "import numpy as np\n",
    "# Remove pixels in bounding boxing from image\n",
    "def remove_pixels(image, results):\n",
    "    # get bounding boxes\n",
    "    boxes = results.xyxy[0]\n",
    "\n",
    "    # convert image to numpy array\n",
    "    image = cv2.cvtColor(np.array(image), cv2.COLOR_RGB2BGR)\n",
    "\n",
    "    # remove pixels in bounding boxes\n",
    "    for box in boxes:\n",
    "        x1, y1, x2, y2 = map(int, box[0:4])  # Convert coordinates to integers\n",
    "        image[y1:y2, x1:x2] = 0\n",
    "\n",
    "    # convert image back to PIL image\n",
    "    image = Image.fromarray(cv2.cvtColor(image, cv2.COLOR_BGR2RGB))\n",
    "\n",
    "    return image\n",
    "\n",
    "# remove pixels in bounding boxes\n",
    "image = remove_pixels(img, results)\n",
    "\n",
    "# # show image\n",
    "# image.show()"
   ]
  },
  {
   "cell_type": "code",
   "execution_count": null,
   "metadata": {},
   "outputs": [],
   "source": [
    "# Run line detection on image\n",
    "import cv2\n",
    "\n",
    "# convert image to numpy array\n",
    "image = cv2.cvtColor(np.array(image), cv2.COLOR_RGB2BGR)\n",
    "\n",
    "# convert image to grayscale\n",
    "gray = cv2.cvtColor(image, cv2.COLOR_BGR2GRAY)\n",
    "\n",
    "# find edges in image\n",
    "edges = cv2.Canny(gray, 50, 150, apertureSize=3)\n",
    "\n",
    "# find lines in image\n",
    "lines = cv2.HoughLinesP(edges, 1, np.pi / 180, threshold=10, minLineLength=50, maxLineGap=10)\n",
    "\n",
    "print(len(lines))\n",
    "\n",
    "# draw lines on image\n",
    "for points in lines:\n",
    "    x1, y1, x2, y2 = points[0]\n",
    "    cv2.line(image, (x1, y1), (x2, y2), (0, 255, 0), 2)\n",
    "\n",
    "# convert image back to PIL image\n",
    "image = Image.fromarray(cv2.cvtColor(image, cv2.COLOR_BGR2RGB))\n",
    "\n",
    "# show image\n",
    "image.show()"
   ]
  }
 ],
 "metadata": {
  "kernelspec": {
   "display_name": "venv",
   "language": "python",
   "name": "python3"
  },
  "language_info": {
   "codemirror_mode": {
    "name": "ipython",
    "version": 3
   },
   "file_extension": ".py",
   "mimetype": "text/x-python",
   "name": "python",
   "nbconvert_exporter": "python",
   "pygments_lexer": "ipython3",
   "version": "3.10.12"
  }
 },
 "nbformat": 4,
 "nbformat_minor": 2
}
